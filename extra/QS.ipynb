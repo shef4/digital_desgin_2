class client():
    def __init__(name:str = "bob", age:int = 20):
        self.name = name
        self.age = age

    def __str__(self):
        return f"Name: {self.name}, Age: {self.age}"

user = client()
print(user)
